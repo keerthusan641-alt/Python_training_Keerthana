{
 "cells": [
  {
   "cell_type": "code",
   "execution_count": 1,
   "id": "2df72176-871e-46d9-9220-5c8ea0c2a807",
   "metadata": {},
   "outputs": [
    {
     "name": "stdout",
     "output_type": "stream",
     "text": [
      "hello keerthana\n"
     ]
    }
   ],
   "source": [
    "print(\"hello keerthana\")\n"
   ]
  },
  {
   "cell_type": "code",
   "execution_count": 3,
   "id": "c9fd7398-b253-440a-96eb-2de1e1af76f6",
   "metadata": {},
   "outputs": [
    {
     "name": "stdout",
     "output_type": "stream",
     "text": [
      "sum of = 5\n"
     ]
    }
   ],
   "source": [
    "a=2 \n",
    "b=3\n",
    "c=a+b\n",
    "print(\"sum of =\", c)"
   ]
  },
  {
   "cell_type": "code",
   "execution_count": null,
   "id": "549aee7b-e31a-45b3-b297-f373b7f021c7",
   "metadata": {},
   "outputs": [],
   "source": []
  }
 ],
 "metadata": {
  "kernelspec": {
   "display_name": "Python [conda env:base] *",
   "language": "python",
   "name": "conda-base-py"
  },
  "language_info": {
   "codemirror_mode": {
    "name": "ipython",
    "version": 3
   },
   "file_extension": ".py",
   "mimetype": "text/x-python",
   "name": "python",
   "nbconvert_exporter": "python",
   "pygments_lexer": "ipython3",
   "version": "3.13.5"
  }
 },
 "nbformat": 4,
 "nbformat_minor": 5
}
